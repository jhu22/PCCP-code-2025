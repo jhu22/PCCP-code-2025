{
 "cells": [
  {
   "cell_type": "code",
   "execution_count": 1,
   "id": "86c7c2a9",
   "metadata": {},
   "outputs": [],
   "source": [
    "import numpy as np"
   ]
  },
  {
   "cell_type": "code",
   "execution_count": 2,
   "id": "8e3f697a",
   "metadata": {},
   "outputs": [],
   "source": [
    "input_y = np.load('svm-data/svm_label.npy')"
   ]
  },
  {
   "cell_type": "code",
   "execution_count": 3,
   "id": "425498e9",
   "metadata": {},
   "outputs": [],
   "source": [
    "input_x = np.load('svm-data/my_60p_cm.npy')"
   ]
  },
  {
   "cell_type": "code",
   "execution_count": 4,
   "id": "4328adcd",
   "metadata": {},
   "outputs": [
    {
     "data": {
      "text/plain": [
       "(3062, 1, 23)"
      ]
     },
     "execution_count": 4,
     "metadata": {},
     "output_type": "execute_result"
    }
   ],
   "source": [
    "input_x.shape"
   ]
  },
  {
   "cell_type": "code",
   "execution_count": 5,
   "id": "bec01173",
   "metadata": {},
   "outputs": [],
   "source": [
    "xxx = input_x.reshape(3062,23)"
   ]
  },
  {
   "cell_type": "code",
   "execution_count": 6,
   "id": "fa7605e1",
   "metadata": {},
   "outputs": [
    {
     "data": {
      "text/plain": [
       "(3062, 23)"
      ]
     },
     "execution_count": 6,
     "metadata": {},
     "output_type": "execute_result"
    }
   ],
   "source": [
    "xxx.shape"
   ]
  },
  {
   "cell_type": "code",
   "execution_count": 7,
   "id": "2f52eae3",
   "metadata": {},
   "outputs": [],
   "source": [
    "from sklearn.svm import SVR\n",
    "from sklearn.model_selection import train_test_split\n",
    "from sklearn.metrics import mean_squared_error"
   ]
  },
  {
   "cell_type": "code",
   "execution_count": 8,
   "id": "531b9bc5",
   "metadata": {},
   "outputs": [],
   "source": [
    "np.random.seed(42)"
   ]
  },
  {
   "cell_type": "code",
   "execution_count": 9,
   "id": "4ff58b79",
   "metadata": {},
   "outputs": [],
   "source": [
    "x_train, x_test, y_train, y_test = train_test_split(xxx, input_y, test_size=0.2, random_state=42)"
   ]
  },
  {
   "cell_type": "code",
   "execution_count": 129,
   "id": "eec39fc2",
   "metadata": {},
   "outputs": [],
   "source": [
    "svr14 = SVR(kernel='rbf',C=80, gamma=0.0105)"
   ]
  },
  {
   "cell_type": "code",
   "execution_count": 130,
   "id": "a1579d16",
   "metadata": {},
   "outputs": [
    {
     "data": {
      "text/html": [
       "<style>#sk-container-id-19 {color: black;background-color: white;}#sk-container-id-19 pre{padding: 0;}#sk-container-id-19 div.sk-toggleable {background-color: white;}#sk-container-id-19 label.sk-toggleable__label {cursor: pointer;display: block;width: 100%;margin-bottom: 0;padding: 0.3em;box-sizing: border-box;text-align: center;}#sk-container-id-19 label.sk-toggleable__label-arrow:before {content: \"▸\";float: left;margin-right: 0.25em;color: #696969;}#sk-container-id-19 label.sk-toggleable__label-arrow:hover:before {color: black;}#sk-container-id-19 div.sk-estimator:hover label.sk-toggleable__label-arrow:before {color: black;}#sk-container-id-19 div.sk-toggleable__content {max-height: 0;max-width: 0;overflow: hidden;text-align: left;background-color: #f0f8ff;}#sk-container-id-19 div.sk-toggleable__content pre {margin: 0.2em;color: black;border-radius: 0.25em;background-color: #f0f8ff;}#sk-container-id-19 input.sk-toggleable__control:checked~div.sk-toggleable__content {max-height: 200px;max-width: 100%;overflow: auto;}#sk-container-id-19 input.sk-toggleable__control:checked~label.sk-toggleable__label-arrow:before {content: \"▾\";}#sk-container-id-19 div.sk-estimator input.sk-toggleable__control:checked~label.sk-toggleable__label {background-color: #d4ebff;}#sk-container-id-19 div.sk-label input.sk-toggleable__control:checked~label.sk-toggleable__label {background-color: #d4ebff;}#sk-container-id-19 input.sk-hidden--visually {border: 0;clip: rect(1px 1px 1px 1px);clip: rect(1px, 1px, 1px, 1px);height: 1px;margin: -1px;overflow: hidden;padding: 0;position: absolute;width: 1px;}#sk-container-id-19 div.sk-estimator {font-family: monospace;background-color: #f0f8ff;border: 1px dotted black;border-radius: 0.25em;box-sizing: border-box;margin-bottom: 0.5em;}#sk-container-id-19 div.sk-estimator:hover {background-color: #d4ebff;}#sk-container-id-19 div.sk-parallel-item::after {content: \"\";width: 100%;border-bottom: 1px solid gray;flex-grow: 1;}#sk-container-id-19 div.sk-label:hover label.sk-toggleable__label {background-color: #d4ebff;}#sk-container-id-19 div.sk-serial::before {content: \"\";position: absolute;border-left: 1px solid gray;box-sizing: border-box;top: 0;bottom: 0;left: 50%;z-index: 0;}#sk-container-id-19 div.sk-serial {display: flex;flex-direction: column;align-items: center;background-color: white;padding-right: 0.2em;padding-left: 0.2em;position: relative;}#sk-container-id-19 div.sk-item {position: relative;z-index: 1;}#sk-container-id-19 div.sk-parallel {display: flex;align-items: stretch;justify-content: center;background-color: white;position: relative;}#sk-container-id-19 div.sk-item::before, #sk-container-id-19 div.sk-parallel-item::before {content: \"\";position: absolute;border-left: 1px solid gray;box-sizing: border-box;top: 0;bottom: 0;left: 50%;z-index: -1;}#sk-container-id-19 div.sk-parallel-item {display: flex;flex-direction: column;z-index: 1;position: relative;background-color: white;}#sk-container-id-19 div.sk-parallel-item:first-child::after {align-self: flex-end;width: 50%;}#sk-container-id-19 div.sk-parallel-item:last-child::after {align-self: flex-start;width: 50%;}#sk-container-id-19 div.sk-parallel-item:only-child::after {width: 0;}#sk-container-id-19 div.sk-dashed-wrapped {border: 1px dashed gray;margin: 0 0.4em 0.5em 0.4em;box-sizing: border-box;padding-bottom: 0.4em;background-color: white;}#sk-container-id-19 div.sk-label label {font-family: monospace;font-weight: bold;display: inline-block;line-height: 1.2em;}#sk-container-id-19 div.sk-label-container {text-align: center;}#sk-container-id-19 div.sk-container {/* jupyter's `normalize.less` sets `[hidden] { display: none; }` but bootstrap.min.css set `[hidden] { display: none !important; }` so we also need the `!important` here to be able to override the default hidden behavior on the sphinx rendered scikit-learn.org. See: https://github.com/scikit-learn/scikit-learn/issues/21755 */display: inline-block !important;position: relative;}#sk-container-id-19 div.sk-text-repr-fallback {display: none;}</style><div id=\"sk-container-id-19\" class=\"sk-top-container\"><div class=\"sk-text-repr-fallback\"><pre>SVR(C=80, gamma=0.0105)</pre><b>In a Jupyter environment, please rerun this cell to show the HTML representation or trust the notebook. <br />On GitHub, the HTML representation is unable to render, please try loading this page with nbviewer.org.</b></div><div class=\"sk-container\" hidden><div class=\"sk-item\"><div class=\"sk-estimator sk-toggleable\"><input class=\"sk-toggleable__control sk-hidden--visually\" id=\"sk-estimator-id-19\" type=\"checkbox\" checked><label for=\"sk-estimator-id-19\" class=\"sk-toggleable__label sk-toggleable__label-arrow\">SVR</label><div class=\"sk-toggleable__content\"><pre>SVR(C=80, gamma=0.0105)</pre></div></div></div></div></div>"
      ],
      "text/plain": [
       "SVR(C=80, gamma=0.0105)"
      ]
     },
     "execution_count": 130,
     "metadata": {},
     "output_type": "execute_result"
    }
   ],
   "source": [
    "svr14.fit(x_train, y_train)"
   ]
  },
  {
   "cell_type": "code",
   "execution_count": 131,
   "id": "27fccb26",
   "metadata": {},
   "outputs": [],
   "source": [
    "y_pred_test = svr14.predict(x_test)\n",
    "y_pred_train = svr14.predict(x_train)"
   ]
  },
  {
   "cell_type": "code",
   "execution_count": 132,
   "id": "72ebc043",
   "metadata": {},
   "outputs": [
    {
     "name": "stdout",
     "output_type": "stream",
     "text": [
      "Mean Squared Error--Test: 0.5798783130298178\n",
      "Mean Squared Error--Train: 0.1223427128535941\n"
     ]
    }
   ],
   "source": [
    "mse = mean_squared_error(y_test, y_pred_test)\n",
    "print(f\"Mean Squared Error--Test: {mse}\")\n",
    "mse = mean_squared_error(y_train, y_pred_train)\n",
    "print(f\"Mean Squared Error--Train: {mse}\")"
   ]
  },
  {
   "cell_type": "code",
   "execution_count": 133,
   "id": "eb01a5f3",
   "metadata": {},
   "outputs": [
    {
     "data": {
      "text/plain": [
       "4.07826985269781"
      ]
     },
     "execution_count": 133,
     "metadata": {},
     "output_type": "execute_result"
    }
   ],
   "source": [
    "max(y_pred_test)-min(y_pred_test)"
   ]
  },
  {
   "cell_type": "code",
   "execution_count": 134,
   "id": "8e9b447b",
   "metadata": {},
   "outputs": [
    {
     "data": {
      "text/plain": [
       "4.85802150998623"
      ]
     },
     "execution_count": 134,
     "metadata": {},
     "output_type": "execute_result"
    }
   ],
   "source": [
    "min(y_pred_test)"
   ]
  },
  {
   "cell_type": "code",
   "execution_count": 135,
   "id": "d3a04df5",
   "metadata": {},
   "outputs": [],
   "source": [
    "my_gemma_data = np.load('svm-data/my_new_Gemma_cm.npy')"
   ]
  },
  {
   "cell_type": "code",
   "execution_count": 136,
   "id": "df5ec9e4",
   "metadata": {},
   "outputs": [],
   "source": [
    "my_gemma_data = my_gemma_data.reshape(168,23)"
   ]
  },
  {
   "cell_type": "code",
   "execution_count": 137,
   "id": "2d93e5f6",
   "metadata": {},
   "outputs": [],
   "source": [
    "my_gemma_pred = svr14.predict(my_gemma_data)"
   ]
  },
  {
   "cell_type": "code",
   "execution_count": 138,
   "id": "65bfefd1",
   "metadata": {},
   "outputs": [
    {
     "data": {
      "text/plain": [
       "6.6699238988075615"
      ]
     },
     "execution_count": 138,
     "metadata": {},
     "output_type": "execute_result"
    }
   ],
   "source": [
    "np.mean(my_gemma_pred)"
   ]
  },
  {
   "cell_type": "code",
   "execution_count": 139,
   "id": "5d480f6d",
   "metadata": {},
   "outputs": [
    {
     "data": {
      "text/plain": [
       "3.517458858819918"
      ]
     },
     "execution_count": 139,
     "metadata": {},
     "output_type": "execute_result"
    }
   ],
   "source": [
    "max(my_gemma_pred)-min(my_gemma_pred)"
   ]
  },
  {
   "cell_type": "code",
   "execution_count": 142,
   "id": "f2703f49",
   "metadata": {},
   "outputs": [],
   "source": [
    "np.save('my_new_dopi_2.npy',my_gemma_pred)"
   ]
  },
  {
   "cell_type": "code",
   "execution_count": null,
   "id": "43684e26",
   "metadata": {},
   "outputs": [],
   "source": []
  },
  {
   "cell_type": "code",
   "execution_count": null,
   "id": "e226bca7",
   "metadata": {},
   "outputs": [],
   "source": []
  },
  {
   "cell_type": "code",
   "execution_count": null,
   "id": "456594a2",
   "metadata": {},
   "outputs": [],
   "source": []
  },
  {
   "cell_type": "code",
   "execution_count": null,
   "id": "b33a7b27",
   "metadata": {},
   "outputs": [],
   "source": []
  },
  {
   "cell_type": "code",
   "execution_count": null,
   "id": "0985a76d",
   "metadata": {},
   "outputs": [],
   "source": []
  },
  {
   "cell_type": "code",
   "execution_count": null,
   "id": "eba2afcb",
   "metadata": {},
   "outputs": [],
   "source": []
  },
  {
   "cell_type": "code",
   "execution_count": null,
   "id": "c24fa8a8",
   "metadata": {},
   "outputs": [],
   "source": []
  },
  {
   "cell_type": "code",
   "execution_count": 10,
   "id": "804ef54d",
   "metadata": {},
   "outputs": [],
   "source": [
    "svr= SVR(kernel='rbf',C=80, gamma=0.84)"
   ]
  },
  {
   "cell_type": "code",
   "execution_count": 11,
   "id": "b8e9e1f7",
   "metadata": {},
   "outputs": [
    {
     "data": {
      "text/html": [
       "<style>#sk-container-id-1 {color: black;background-color: white;}#sk-container-id-1 pre{padding: 0;}#sk-container-id-1 div.sk-toggleable {background-color: white;}#sk-container-id-1 label.sk-toggleable__label {cursor: pointer;display: block;width: 100%;margin-bottom: 0;padding: 0.3em;box-sizing: border-box;text-align: center;}#sk-container-id-1 label.sk-toggleable__label-arrow:before {content: \"▸\";float: left;margin-right: 0.25em;color: #696969;}#sk-container-id-1 label.sk-toggleable__label-arrow:hover:before {color: black;}#sk-container-id-1 div.sk-estimator:hover label.sk-toggleable__label-arrow:before {color: black;}#sk-container-id-1 div.sk-toggleable__content {max-height: 0;max-width: 0;overflow: hidden;text-align: left;background-color: #f0f8ff;}#sk-container-id-1 div.sk-toggleable__content pre {margin: 0.2em;color: black;border-radius: 0.25em;background-color: #f0f8ff;}#sk-container-id-1 input.sk-toggleable__control:checked~div.sk-toggleable__content {max-height: 200px;max-width: 100%;overflow: auto;}#sk-container-id-1 input.sk-toggleable__control:checked~label.sk-toggleable__label-arrow:before {content: \"▾\";}#sk-container-id-1 div.sk-estimator input.sk-toggleable__control:checked~label.sk-toggleable__label {background-color: #d4ebff;}#sk-container-id-1 div.sk-label input.sk-toggleable__control:checked~label.sk-toggleable__label {background-color: #d4ebff;}#sk-container-id-1 input.sk-hidden--visually {border: 0;clip: rect(1px 1px 1px 1px);clip: rect(1px, 1px, 1px, 1px);height: 1px;margin: -1px;overflow: hidden;padding: 0;position: absolute;width: 1px;}#sk-container-id-1 div.sk-estimator {font-family: monospace;background-color: #f0f8ff;border: 1px dotted black;border-radius: 0.25em;box-sizing: border-box;margin-bottom: 0.5em;}#sk-container-id-1 div.sk-estimator:hover {background-color: #d4ebff;}#sk-container-id-1 div.sk-parallel-item::after {content: \"\";width: 100%;border-bottom: 1px solid gray;flex-grow: 1;}#sk-container-id-1 div.sk-label:hover label.sk-toggleable__label {background-color: #d4ebff;}#sk-container-id-1 div.sk-serial::before {content: \"\";position: absolute;border-left: 1px solid gray;box-sizing: border-box;top: 0;bottom: 0;left: 50%;z-index: 0;}#sk-container-id-1 div.sk-serial {display: flex;flex-direction: column;align-items: center;background-color: white;padding-right: 0.2em;padding-left: 0.2em;position: relative;}#sk-container-id-1 div.sk-item {position: relative;z-index: 1;}#sk-container-id-1 div.sk-parallel {display: flex;align-items: stretch;justify-content: center;background-color: white;position: relative;}#sk-container-id-1 div.sk-item::before, #sk-container-id-1 div.sk-parallel-item::before {content: \"\";position: absolute;border-left: 1px solid gray;box-sizing: border-box;top: 0;bottom: 0;left: 50%;z-index: -1;}#sk-container-id-1 div.sk-parallel-item {display: flex;flex-direction: column;z-index: 1;position: relative;background-color: white;}#sk-container-id-1 div.sk-parallel-item:first-child::after {align-self: flex-end;width: 50%;}#sk-container-id-1 div.sk-parallel-item:last-child::after {align-self: flex-start;width: 50%;}#sk-container-id-1 div.sk-parallel-item:only-child::after {width: 0;}#sk-container-id-1 div.sk-dashed-wrapped {border: 1px dashed gray;margin: 0 0.4em 0.5em 0.4em;box-sizing: border-box;padding-bottom: 0.4em;background-color: white;}#sk-container-id-1 div.sk-label label {font-family: monospace;font-weight: bold;display: inline-block;line-height: 1.2em;}#sk-container-id-1 div.sk-label-container {text-align: center;}#sk-container-id-1 div.sk-container {/* jupyter's `normalize.less` sets `[hidden] { display: none; }` but bootstrap.min.css set `[hidden] { display: none !important; }` so we also need the `!important` here to be able to override the default hidden behavior on the sphinx rendered scikit-learn.org. See: https://github.com/scikit-learn/scikit-learn/issues/21755 */display: inline-block !important;position: relative;}#sk-container-id-1 div.sk-text-repr-fallback {display: none;}</style><div id=\"sk-container-id-1\" class=\"sk-top-container\"><div class=\"sk-text-repr-fallback\"><pre>SVR(C=80, gamma=0.84)</pre><b>In a Jupyter environment, please rerun this cell to show the HTML representation or trust the notebook. <br />On GitHub, the HTML representation is unable to render, please try loading this page with nbviewer.org.</b></div><div class=\"sk-container\" hidden><div class=\"sk-item\"><div class=\"sk-estimator sk-toggleable\"><input class=\"sk-toggleable__control sk-hidden--visually\" id=\"sk-estimator-id-1\" type=\"checkbox\" checked><label for=\"sk-estimator-id-1\" class=\"sk-toggleable__label sk-toggleable__label-arrow\">SVR</label><div class=\"sk-toggleable__content\"><pre>SVR(C=80, gamma=0.84)</pre></div></div></div></div></div>"
      ],
      "text/plain": [
       "SVR(C=80, gamma=0.84)"
      ]
     },
     "execution_count": 11,
     "metadata": {},
     "output_type": "execute_result"
    }
   ],
   "source": [
    "svr.fit(x_train, y_train)"
   ]
  },
  {
   "cell_type": "code",
   "execution_count": 12,
   "id": "328db6c6",
   "metadata": {},
   "outputs": [],
   "source": [
    "y_pred_test = svr.predict(x_test)\n",
    "y_pred_train = svr.predict(x_train)"
   ]
  },
  {
   "cell_type": "code",
   "execution_count": 13,
   "id": "a95e8646",
   "metadata": {},
   "outputs": [
    {
     "name": "stdout",
     "output_type": "stream",
     "text": [
      "Mean Squared Error--Test: 0.44884779923400997\n",
      "Mean Squared Error--Train: 0.011981703563157104\n"
     ]
    }
   ],
   "source": [
    "mse = mean_squared_error(y_test, y_pred_test)\n",
    "print(f\"Mean Squared Error--Test: {mse}\")\n",
    "mse = mean_squared_error(y_train, y_pred_train)\n",
    "print(f\"Mean Squared Error--Train: {mse}\")"
   ]
  },
  {
   "cell_type": "code",
   "execution_count": 14,
   "id": "266a32ea",
   "metadata": {},
   "outputs": [
    {
     "data": {
      "text/plain": [
       "6.804362261676676"
      ]
     },
     "execution_count": 14,
     "metadata": {},
     "output_type": "execute_result"
    }
   ],
   "source": [
    "np.mean(input_y)"
   ]
  },
  {
   "cell_type": "code",
   "execution_count": 15,
   "id": "4e6919f2",
   "metadata": {},
   "outputs": [],
   "source": [
    "my_gemma_data = np.load('svm-data/my_new_Gemma_cm.npy')"
   ]
  },
  {
   "cell_type": "code",
   "execution_count": 16,
   "id": "d2b6b753",
   "metadata": {},
   "outputs": [
    {
     "data": {
      "text/plain": [
       "(168, 1, 23)"
      ]
     },
     "execution_count": 16,
     "metadata": {},
     "output_type": "execute_result"
    }
   ],
   "source": [
    "my_gemma_data.shape"
   ]
  },
  {
   "cell_type": "code",
   "execution_count": 17,
   "id": "8672c3d9",
   "metadata": {},
   "outputs": [],
   "source": [
    "my_gemma_data = my_gemma_data.reshape(168,23)"
   ]
  },
  {
   "cell_type": "code",
   "execution_count": 18,
   "id": "b40bf3e7",
   "metadata": {},
   "outputs": [],
   "source": [
    "my_gemma_pred = svr.predict(my_gemma_data)"
   ]
  },
  {
   "cell_type": "code",
   "execution_count": 19,
   "id": "e29c0b02",
   "metadata": {},
   "outputs": [
    {
     "data": {
      "text/plain": [
       "7.198704982522905"
      ]
     },
     "execution_count": 19,
     "metadata": {},
     "output_type": "execute_result"
    }
   ],
   "source": [
    "max(my_gemma_pred)"
   ]
  },
  {
   "cell_type": "code",
   "execution_count": 20,
   "id": "0ce85445",
   "metadata": {},
   "outputs": [
    {
     "data": {
      "text/plain": [
       "6.821808050293013"
      ]
     },
     "execution_count": 20,
     "metadata": {},
     "output_type": "execute_result"
    }
   ],
   "source": [
    "np.mean(my_gemma_pred)"
   ]
  },
  {
   "cell_type": "code",
   "execution_count": 21,
   "id": "39d54bf5",
   "metadata": {},
   "outputs": [
    {
     "data": {
      "text/plain": [
       "6.297832819267619"
      ]
     },
     "execution_count": 21,
     "metadata": {},
     "output_type": "execute_result"
    }
   ],
   "source": [
    "min(my_gemma_pred)"
   ]
  },
  {
   "cell_type": "markdown",
   "id": "f87f965e",
   "metadata": {},
   "source": [
    "max(y_pred_test)"
   ]
  },
  {
   "cell_type": "code",
   "execution_count": 22,
   "id": "18241038",
   "metadata": {},
   "outputs": [
    {
     "data": {
      "text/plain": [
       "7.988138116782286"
      ]
     },
     "execution_count": 22,
     "metadata": {},
     "output_type": "execute_result"
    }
   ],
   "source": [
    "max(y_pred_test)"
   ]
  },
  {
   "cell_type": "code",
   "execution_count": 23,
   "id": "c1bcfca8",
   "metadata": {},
   "outputs": [
    {
     "data": {
      "text/plain": [
       "6.56051454239286"
      ]
     },
     "execution_count": 23,
     "metadata": {},
     "output_type": "execute_result"
    }
   ],
   "source": [
    "min(y_pred_test)"
   ]
  },
  {
   "cell_type": "code",
   "execution_count": 26,
   "id": "4cd82f92",
   "metadata": {},
   "outputs": [
    {
     "data": {
      "text/plain": [
       "10.062344057694038"
      ]
     },
     "execution_count": 26,
     "metadata": {},
     "output_type": "execute_result"
    }
   ],
   "source": [
    "max(y_pred_train)"
   ]
  },
  {
   "cell_type": "code",
   "execution_count": 27,
   "id": "7d15f22e",
   "metadata": {},
   "outputs": [
    {
     "data": {
      "text/plain": [
       "6.197219450052717"
      ]
     },
     "execution_count": 27,
     "metadata": {},
     "output_type": "execute_result"
    }
   ],
   "source": [
    "min(y_pred_train)"
   ]
  },
  {
   "cell_type": "code",
   "execution_count": 28,
   "id": "7ed33adf",
   "metadata": {},
   "outputs": [],
   "source": [
    "np.save('my_gemma_dipo.npy',my_gemma_pred)"
   ]
  },
  {
   "cell_type": "code",
   "execution_count": null,
   "id": "01b9d0d1",
   "metadata": {},
   "outputs": [],
   "source": [
    "np.save('svm_train_y.npy',y_train)"
   ]
  }
 ],
 "metadata": {
  "kernelspec": {
   "display_name": "ML",
   "language": "python",
   "name": "ml"
  },
  "language_info": {
   "codemirror_mode": {
    "name": "ipython",
    "version": 3
   },
   "file_extension": ".py",
   "mimetype": "text/x-python",
   "name": "python",
   "nbconvert_exporter": "python",
   "pygments_lexer": "ipython3",
   "version": "3.8.10"
  }
 },
 "nbformat": 4,
 "nbformat_minor": 5
}
